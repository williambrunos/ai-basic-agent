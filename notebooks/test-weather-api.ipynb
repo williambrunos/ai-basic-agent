{
 "cells": [
  {
   "cell_type": "code",
   "execution_count": 1,
   "id": "d9649dfa",
   "metadata": {},
   "outputs": [],
   "source": [
    "import requests"
   ]
  },
  {
   "cell_type": "code",
   "execution_count": null,
   "id": "073bf5ed",
   "metadata": {},
   "outputs": [],
   "source": [
    "location = \"new-york\"\n",
    "geocode_url = \"https://nominatim.openstreetmap.org/search\"\n",
    "geocode_params = {\n",
    "    \"q\": location,\n",
    "    \"format\": \"json\",\n",
    "    \"limit\": 1 \n",
    "}\n",
    "geocode_resp = requests.get(geocode_url, params=geocode_params, headers={\"User-Agent\": \"Mozilla/5.0\"})\n",
    "if geocode_resp.status_code != 200 or not geocode_resp.json():\n",
    "    print(f\"Could not find location: {location}\")\n",
    "geocode_data = geocode_resp.json()[0]\n",
    "lat = geocode_data[\"lat\"]\n",
    "lon = geocode_data[\"lon\"]"
   ]
  },
  {
   "cell_type": "code",
   "execution_count": 8,
   "id": "8bd7efec",
   "metadata": {},
   "outputs": [
    {
     "name": "stdout",
     "output_type": "stream",
     "text": [
      "Latitude: 40.7127281, Longitude: -74.0060152\n"
     ]
    }
   ],
   "source": [
    "print(f\"Latitude: {lat}, Longitude: {lon}\")"
   ]
  },
  {
   "cell_type": "code",
   "execution_count": null,
   "id": "0731e410",
   "metadata": {},
   "outputs": [],
   "source": [
    "weather_url = \"https://api.open-meteo.com/v1/forecast\"\n",
    "weather_params = {\n",
    "    \"latitude\": lat,\n",
    "    \"longitude\": lon,\n",
    "    \"current_weather\": \"true\"\n",
    "}\n",
    "weather_resp = requests.get(weather_url, params=weather_params)\n",
    "if weather_resp.status_code != 200:\n",
    "    print(f\"Failed to get weather data for {location}\")\n",
    "weather_data = weather_resp.json()\n",
    "if \"current_weather\" not in weather_data:\n",
    "    print(f\"No weather data available for {location}\")\n",
    "\n",
    "current_weather = weather_data[\"current_weather\"]\n",
    "temperature = current_weather.get(\"temperature\")\n",
    "windspeed = current_weather.get(\"windspeed\")\n",
    "weather_code = current_weather.get(\"weathercode\")"
   ]
  },
  {
   "cell_type": "code",
   "execution_count": 7,
   "id": "e1d27026",
   "metadata": {},
   "outputs": [
    {
     "data": {
      "text/plain": [
       "{'time': '2025-04-16T19:45',\n",
       " 'interval': 900,\n",
       " 'temperature': 11.6,\n",
       " 'windspeed': 31.9,\n",
       " 'winddirection': 281,\n",
       " 'is_day': 1,\n",
       " 'weathercode': 3}"
      ]
     },
     "execution_count": 7,
     "metadata": {},
     "output_type": "execute_result"
    }
   ],
   "source": [
    "current_weather"
   ]
  }
 ],
 "metadata": {
  "kernelspec": {
   "display_name": ".venv",
   "language": "python",
   "name": "python3"
  },
  "language_info": {
   "codemirror_mode": {
    "name": "ipython",
    "version": 3
   },
   "file_extension": ".py",
   "mimetype": "text/x-python",
   "name": "python",
   "nbconvert_exporter": "python",
   "pygments_lexer": "ipython3",
   "version": "3.11.11"
  }
 },
 "nbformat": 4,
 "nbformat_minor": 5
}
